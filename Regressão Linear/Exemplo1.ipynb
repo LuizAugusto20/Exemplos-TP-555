{
 "metadata": {
  "language_info": {
   "codemirror_mode": {
    "name": "ipython",
    "version": 3
   },
   "file_extension": ".py",
   "mimetype": "text/x-python",
   "name": "python",
   "nbconvert_exporter": "python",
   "pygments_lexer": "ipython3",
   "version": "3.8.3-final"
  },
  "orig_nbformat": 2,
  "kernelspec": {
   "name": "python_defaultSpec_1600208818054",
   "display_name": "Python 3.8.3 64-bit ('base': conda)"
  }
 },
 "nbformat": 4,
 "nbformat_minor": 2,
 "cells": [
  {
   "cell_type": "code",
   "execution_count": 206,
   "metadata": {},
   "outputs": [],
   "source": [
    "import numpy as np \n",
    "from sklearn.linear_model import LinearRegression"
   ]
  },
  {
   "cell_type": "code",
   "execution_count": 207,
   "metadata": {},
   "outputs": [],
   "source": [
    "N = 100"
   ]
  },
  {
   "cell_type": "code",
   "execution_count": 208,
   "metadata": {},
   "outputs": [],
   "source": [
    "'''\n",
    "Geração dos atributos e rótulos\n",
    "'''\n",
    "x  = 2*np.random.rand(N,1)\n",
    "y = 4+3*x+np.random.randn(N,1)"
   ]
  },
  {
   "cell_type": "code",
   "execution_count": 209,
   "metadata": {},
   "outputs": [],
   "source": [
    "X_b= np.c_[np.ones((N,1)),x]\n",
    "a_optimum=np.linalg.inv(X_b.T.dot(X_b)).dot(X_b.T).dot(y)"
   ]
  },
  {
   "cell_type": "code",
   "execution_count": 210,
   "metadata": {
    "tags": []
   },
   "outputs": [
    {
     "output_type": "stream",
     "name": "stdout",
     "text": "a0: 4.049713376172172\na1: 2.844410863302091\n"
    }
   ],
   "source": [
    "\"\"\"\n",
    "Print the best solution\n",
    "\"\"\"\n",
    "print(f'a0: {a_optimum[0][0]}')\n",
    "print(f'a1: {a_optimum[1][0]}')"
   ]
  },
  {
   "source": [
    "Refazendo com a Biblioteca do Sckit learn"
   ],
   "cell_type": "markdown",
   "metadata": {}
  },
  {
   "cell_type": "code",
   "execution_count": 211,
   "metadata": {},
   "outputs": [
    {
     "output_type": "execute_result",
     "data": {
      "text/plain": "LinearRegression()"
     },
     "metadata": {},
     "execution_count": 211
    }
   ],
   "source": [
    "lin_reg = LinearRegression() # instanciamento de um objeto\n",
    "lin_reg.fit(x,y)             # Treinando o modelo"
   ]
  },
  {
   "cell_type": "code",
   "execution_count": 212,
   "metadata": {
    "tags": []
   },
   "outputs": [
    {
     "output_type": "stream",
     "name": "stdout",
     "text": "a0: 4.049713376172169: Valor obtido por meio do sklearn\na1: 2.844410863302094: Valor obtido por meio do sklearn\n"
    }
   ],
   "source": [
    "\"\"\"\n",
    "Print the best solution\n",
    "\"\"\"\n",
    "print(f'a0: {lin_reg.intercept_[0]}: Valor obtido por meio do sklearn')\n",
    "print(f'a1: {lin_reg.coef_[0][0]}: Valor obtido por meio do sklearn')\n",
    "\n"
   ]
  }
 ]
}